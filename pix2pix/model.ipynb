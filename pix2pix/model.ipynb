{
 "cells": [
  {
   "cell_type": "code",
   "execution_count": 1,
   "metadata": {
    "pycharm": {
     "name": "#%%\n"
    },
    "tags": []
   },
   "outputs": [],
   "source": [
    "import torch\n",
    "import torch.nn as nn\n",
    "from PIL import Image\n",
    "import numpy as np\n",
    "import os\n",
    "from torch.utils.data import Dataset\n",
    "import albumentations as A\n",
    "from albumentations.pytorch import ToTensorV2\n",
    "from torch.utils.data import DataLoader\n",
    "from tqdm import tqdm"
   ]
  },
  {
   "cell_type": "code",
   "execution_count": 2,
   "metadata": {
    "collapsed": false,
    "jupyter": {
     "outputs_hidden": false
    },
    "pycharm": {
     "name": "#%%\n"
    }
   },
   "outputs": [],
   "source": [
    "from torchvision.utils import save_image"
   ]
  },
  {
   "cell_type": "code",
   "execution_count": 3,
   "metadata": {
    "collapsed": false,
    "jupyter": {
     "outputs_hidden": false
    },
    "pycharm": {
     "name": "#%%\n"
    }
   },
   "outputs": [],
   "source": [
    "import torch.optim as optim"
   ]
  },
  {
   "cell_type": "code",
   "execution_count": 4,
   "metadata": {
    "collapsed": false,
    "jupyter": {
     "outputs_hidden": false
    },
    "pycharm": {
     "name": "#%%\n"
    }
   },
   "outputs": [],
   "source": [
    "class DiscBlock(nn.Module):\n",
    "    def __init__(self, in_channels, out_channels, kernel=4, stride=2):\n",
    "        super(DiscBlock, self).__init__()\n",
    "        self.conv = nn.Sequential(\n",
    "            nn.Conv2d(in_channels=in_channels,\n",
    "                      out_channels=out_channels,\n",
    "                      kernel_size=kernel,\n",
    "                      stride=stride,\n",
    "                      bias=False,\n",
    "                      padding_mode='reflect'),\n",
    "            nn.BatchNorm2d(out_channels),\n",
    "            nn.LeakyReLU(negative_slope=0.2)\n",
    "        )\n",
    "    def forward(self, x):\n",
    "        return self.conv(x)"
   ]
  },
  {
   "cell_type": "code",
   "execution_count": 5,
   "metadata": {
    "collapsed": false,
    "jupyter": {
     "outputs_hidden": false
    },
    "pycharm": {
     "name": "#%%\n"
    }
   },
   "outputs": [],
   "source": [
    "class Discriminator(nn.Module):\n",
    "    def __init__(self, in_channels=3, features=None, kernel=4, stride=2, padding=1):\n",
    "        super().__init__()\n",
    "        if not features:\n",
    "            features = [64, 128, 256, 512]\n",
    "        self.initial = nn.Sequential(\n",
    "            nn.Conv2d(in_channels*2, features[0], kernel_size=kernel, stride=stride, padding=padding, padding_mode='reflect'),\n",
    "            nn.LeakyReLU(0.2)\n",
    "        )\n",
    "\n",
    "        layers = []\n",
    "        in_channels = features[0]\n",
    "        for feature in features[1:]:\n",
    "            layers.append(DiscBlock(in_channels=in_channels,\n",
    "                                   out_channels=feature,\n",
    "                                   stride=1 if feature==features[-1] else 2,\n",
    "                                   kernel=kernel\n",
    "                                   ))\n",
    "            in_channels = feature\n",
    "\n",
    "        layers.append(nn.Conv2d(\n",
    "            in_channels=in_channels,\n",
    "            out_channels=1,\n",
    "            kernel_size=kernel,\n",
    "            stride = (1, 1),\n",
    "            padding=1,\n",
    "            padding_mode='reflect'\n",
    "        ))\n",
    "        self.model = nn.Sequential(*layers)\n",
    "\n",
    "    def forward(self, x, y):\n",
    "        x = torch.cat((x,y), dim=1)\n",
    "        x = self.initial(x)\n",
    "        x = self.model(x)\n",
    "        return x"
   ]
  },
  {
   "cell_type": "code",
   "execution_count": 6,
   "metadata": {
    "collapsed": false,
    "jupyter": {
     "outputs_hidden": false
    },
    "pycharm": {
     "name": "#%%\n"
    }
   },
   "outputs": [],
   "source": [
    "def test_discriminator():\n",
    "    a = Discriminator()\n",
    "    img = torch.ones(10, 3, 256, 256)\n",
    "    print(a.forward(img, img).shape)\n",
    "    # print(a.forward(img, img))"
   ]
  },
  {
   "cell_type": "code",
   "execution_count": 7,
   "metadata": {
    "collapsed": false,
    "jupyter": {
     "outputs_hidden": false
    },
    "pycharm": {
     "name": "#%%\n"
    }
   },
   "outputs": [],
   "source": [
    "# test_discriminator()"
   ]
  },
  {
   "cell_type": "code",
   "execution_count": 8,
   "metadata": {
    "collapsed": false,
    "jupyter": {
     "outputs_hidden": false
    },
    "pycharm": {
     "name": "#%%\n"
    }
   },
   "outputs": [],
   "source": [
    "class GeneratorBlock(nn.Module):\n",
    "    def __init__(self, in_channels, out_channels, down=True, act='relu', use_dropout=False):\n",
    "        super().__init__()\n",
    "        self.conv = nn.Sequential(\n",
    "            nn.Conv2d(in_channels=in_channels,\n",
    "                      out_channels=out_channels,\n",
    "                      kernel_size=(4,4),\n",
    "                      stride=(2,2),\n",
    "                      padding=(1,1),\n",
    "                      padding_mode='reflect')\n",
    "            if down\n",
    "            else nn.ConvTranspose2d(in_channels=in_channels,\n",
    "                                    out_channels=out_channels,\n",
    "                                    kernel_size=(4,4),\n",
    "                                    stride=(2,2),\n",
    "                                    padding=(1,1),\n",
    "                                    bias=False),\n",
    "            nn.BatchNorm2d(out_channels),\n",
    "            nn.ReLU() if act=='relu' else nn.LeakyReLU(0.2)\n",
    "        )\n",
    "        self.use_dropout = use_dropout\n",
    "        self.dropout = nn.Dropout(0.5)\n",
    "\n",
    "    def forward(self, x):\n",
    "        x = self.conv(x)\n",
    "        x = self.dropout(x) if self.use_dropout else x\n",
    "        return x"
   ]
  },
  {
   "cell_type": "code",
   "execution_count": 9,
   "metadata": {
    "collapsed": false,
    "jupyter": {
     "outputs_hidden": false
    },
    "pycharm": {
     "name": "#%%\n"
    }
   },
   "outputs": [],
   "source": [
    "class Generator(nn.Module):\n",
    "    def __init__(self, in_channels=3, features=64):\n",
    "        super().__init__()\n",
    "        self.initial_down = nn.Sequential(\n",
    "            nn.Conv2d(\n",
    "                in_channels=in_channels,\n",
    "                out_channels=features,\n",
    "                kernel_size=(4,4),\n",
    "                stride=(2,2),\n",
    "                padding=1,\n",
    "                padding_mode='reflect'\n",
    "            ),\n",
    "            nn.LeakyReLU(0.2)\n",
    "        )\n",
    "        self.down1 = GeneratorBlock(in_channels=features, out_channels=features*2, down=True, act='leaky', use_dropout=False)\n",
    "        self.down2 = GeneratorBlock(in_channels=features*2, out_channels=features*4, down=True, act='leaky', use_dropout=False)\n",
    "        self.down3 = GeneratorBlock(in_channels=features*4, out_channels=features*8, down=True, act='leaky', use_dropout=False)\n",
    "        self.down4 = GeneratorBlock(in_channels=features*8, out_channels=features*8, down=True, act='leaky', use_dropout=False)\n",
    "        self.down5 = GeneratorBlock(in_channels=features*8, out_channels=features*8, down=True, act='leaky', use_dropout=False)\n",
    "        self.down6 = GeneratorBlock(in_channels=features*8, out_channels=features*8, down=True, act='leaky', use_dropout=False)\n",
    "\n",
    "        self.bottleneck = nn.Sequential(\n",
    "            nn.Conv2d(in_channels=features*8,\n",
    "                      out_channels=features*8,\n",
    "                      kernel_size=(4,4), stride=(2,2),\n",
    "                      padding=(1,1),\n",
    "                      padding_mode=\"reflect\"),\n",
    "            nn.ReLU()\n",
    "        )\n",
    "        self.up1 = GeneratorBlock(in_channels=features*8, out_channels=features*8, down=False, act='relu', use_dropout=True)\n",
    "        self.up2 = GeneratorBlock(in_channels=features*8*2, out_channels=features*8, down=False, act='relu', use_dropout=True)\n",
    "        self.up3 = GeneratorBlock(in_channels=features*8*2, out_channels=features*8, down=False, act='relu', use_dropout=True)\n",
    "        self.up4 = GeneratorBlock(in_channels=features*8*2, out_channels=features*8, down=False, act='relu', use_dropout=False)\n",
    "        self.up5 = GeneratorBlock(in_channels=features*8*2, out_channels=features*4, down=False, act='relu', use_dropout=False)\n",
    "        self.up6 = GeneratorBlock(in_channels=features*4*2, out_channels=features*2, down=False, act='relu', use_dropout=False)\n",
    "        self.up7 = GeneratorBlock(in_channels=features*2*2, out_channels=features, down=False, act='relu', use_dropout=False)\n",
    "\n",
    "        self.final_up = nn.Sequential(\n",
    "            nn.ConvTranspose2d(in_channels=features*2, out_channels=in_channels,kernel_size=(4,4), stride=(2,2), padding=(1,1)),\n",
    "            nn.Tanh()\n",
    "        )\n",
    "\n",
    "    def forward(self, x):\n",
    "        d1 = self.initial_down(x)\n",
    "        d2 = self.down1(d1)\n",
    "        d3 = self.down2(d2)\n",
    "        d4 = self.down3(d3)\n",
    "        d5 = self.down4(d4)\n",
    "        d6 = self.down5(d5)\n",
    "        d7 = self.down6(d6)\n",
    "        bottleneck = self.bottleneck(d7)\n",
    "        up1 = self.up1(bottleneck)\n",
    "        up2 = self.up2(torch.cat([d7, up1], dim=1))\n",
    "        up3 = self.up3(torch.cat([d6, up2], dim=1))\n",
    "        up4 = self.up4(torch.cat([d5, up3], dim=1))\n",
    "        up5 = self.up5(torch.cat([d4, up4], dim=1))\n",
    "        up6 = self.up6(torch.cat([d3, up5], dim=1))\n",
    "        up7 = self.up7(torch.cat([d2, up6], dim=1))\n",
    "        return self.final_up(torch.cat([d1, up7], dim=1))"
   ]
  },
  {
   "cell_type": "code",
   "execution_count": 10,
   "metadata": {
    "collapsed": false,
    "jupyter": {
     "outputs_hidden": false
    },
    "pycharm": {
     "name": "#%%\n"
    }
   },
   "outputs": [],
   "source": [
    "def test_generator():\n",
    "    test_imgs = torch.ones(10, 3, 256, 256)\n",
    "    gen = Generator(3, 64)\n",
    "    print(gen(test_imgs).shape)"
   ]
  },
  {
   "cell_type": "code",
   "execution_count": 11,
   "metadata": {
    "collapsed": false,
    "jupyter": {
     "outputs_hidden": false
    },
    "pycharm": {
     "name": "#%%\n"
    }
   },
   "outputs": [],
   "source": [
    "# test_generator()"
   ]
  },
  {
   "cell_type": "code",
   "execution_count": 11,
   "metadata": {
    "collapsed": false,
    "jupyter": {
     "outputs_hidden": false
    },
    "pycharm": {
     "name": "#%%\n"
    }
   },
   "outputs": [],
   "source": []
  },
  {
   "cell_type": "code",
   "execution_count": 12,
   "metadata": {
    "collapsed": false,
    "jupyter": {
     "outputs_hidden": false
    },
    "pycharm": {
     "name": "#%%\n"
    }
   },
   "outputs": [],
   "source": [
    "class MapDataset(Dataset):\n",
    "    def __init__(self, dir, val=False):\n",
    "        super().__init__()\n",
    "        self.dir = dir\n",
    "        self.all_files = os.listdir(dir)\n",
    "        self.both_transform = A.Compose(\n",
    "            [\n",
    "                A.Resize(width=256, height=256),\n",
    "                A.HorizontalFlip(p=0.5 if not val else 0)\n",
    "            ],\n",
    "            additional_targets={\n",
    "                'image0': 'image'\n",
    "            }\n",
    "        )\n",
    "        self.transform_in = A.Compose(\n",
    "            transforms=[A.ColorJitter(p=0.2 if not val else 0),\n",
    "                        A.Normalize(mean=[0.5, 0.5, 0.5], std = [0.5, 0.5, 0.5]),\n",
    "                        ToTensorV2()]\n",
    "        )\n",
    "        self.transform_out = A.Compose(\n",
    "            transforms=[\n",
    "                 A.Normalize(mean=[0.5, 0.5, 0.5], std = [0.5, 0.5, 0.5]),\n",
    "                 ToTensorV2()\n",
    "            ]\n",
    "        )\n",
    "    def __len__(self):\n",
    "        return len(self.all_files)\n",
    "    def __getitem__(self, idx):\n",
    "        img_path = os.path.join(self.dir, self.all_files[idx])\n",
    "        image = np.array(Image.open(img_path))\n",
    "        in_image = image[:, :600, :]\n",
    "        out_image = image[:, 600:, :]\n",
    "        augmentations = self.both_transform(image=in_image, image0=out_image)\n",
    "        in_image, out_image = augmentations['image'], augmentations['image0']\n",
    "        in_image = self.transform_in(image=in_image)['image']\n",
    "        out_image = self.transform_out(image=out_image)['image']\n",
    "        return in_image, out_image"
   ]
  },
  {
   "cell_type": "code",
   "execution_count": 13,
   "metadata": {
    "collapsed": false,
    "jupyter": {
     "outputs_hidden": false
    },
    "pycharm": {
     "name": "#%%\n"
    }
   },
   "outputs": [],
   "source": [
    "dataset = MapDataset('maps/train', False)"
   ]
  },
  {
   "cell_type": "code",
   "execution_count": 14,
   "metadata": {
    "collapsed": false,
    "jupyter": {
     "outputs_hidden": false
    },
    "pycharm": {
     "name": "#%%\n"
    }
   },
   "outputs": [],
   "source": [
    "# dataset[0][1].shape"
   ]
  },
  {
   "cell_type": "code",
   "execution_count": 15,
   "metadata": {
    "collapsed": false,
    "jupyter": {
     "outputs_hidden": false
    },
    "pycharm": {
     "name": "#%%\n"
    }
   },
   "outputs": [],
   "source": [
    "def save_examples(generator, val_loader, epoch, folder):\n",
    "    x, y = next(iter(val_loader))\n",
    "    x, y = x.to(device), y.to(device)\n",
    "    generator.eval()\n",
    "    with torch.no_grad():\n",
    "        y_fake = generator.forward(x)\n",
    "        y_fake = y_fake*0.5+0.5\n",
    "        save_image(y_fake, folder+f'/generated_{epoch}.png')\n",
    "        save_image(x*0.5+0.5, folder+f'/input_{epoch}.png')\n",
    "        save_image(y*0.5+0.5, folder+f'/real_{epoch}.png')\n",
    "    generator.train(True)\n"
   ]
  },
  {
   "cell_type": "code",
   "execution_count": 16,
   "metadata": {
    "collapsed": false,
    "jupyter": {
     "outputs_hidden": false
    },
    "pycharm": {
     "name": "#%%\n"
    }
   },
   "outputs": [],
   "source": [
    "def save_checkpoint(model, optimizer, filename):\n",
    "    print('Saving checkpoint')\n",
    "    checkpoint = {\n",
    "        'state_dict': model.state_dict(),\n",
    "        'optimizer': optimizer.state_dict()\n",
    "    }\n",
    "    torch.save(checkpoint, filename)"
   ]
  },
  {
   "cell_type": "code",
   "execution_count": 17,
   "metadata": {
    "collapsed": false,
    "jupyter": {
     "outputs_hidden": false
    },
    "pycharm": {
     "name": "#%%\n"
    }
   },
   "outputs": [],
   "source": [
    "def load_checkpoint(model, optimizer, lr, file):\n",
    "    print('load checkpoint')\n",
    "\n",
    "    checkpoint = torch.load(file, map_location=device)\n",
    "    model.load_state_dict(checkpoint['state_dict'])\n",
    "    optimizer.load_state_dict(checkpoint['optimizer'])\n",
    "\n",
    "    for param_group in optimizer.param_groups:\n",
    "        param_group['lr'] = lr"
   ]
  },
  {
   "cell_type": "code",
   "execution_count": 18,
   "metadata": {
    "collapsed": false,
    "jupyter": {
     "outputs_hidden": false
    },
    "pycharm": {
     "name": "#%%\n"
    }
   },
   "outputs": [],
   "source": [
    "lr = 2e-4\n",
    "batch_size = 8\n",
    "num_workers=1\n",
    "num_epochs = 500\n",
    "l1_lambda = 100\n",
    "load_model = False\n",
    "train_dataset = MapDataset(dir='maps/train')\n",
    "train_loader = DataLoader(dataset=train_dataset, batch_size=batch_size, shuffle=True)\n",
    "\n",
    "g_scaler = torch.cuda.amp.GradScaler()\n",
    "d_scaler = torch.cuda.amp.GradScaler()\n",
    "\n",
    "val_dataset = MapDataset(dir='maps/val', val=True)\n",
    "val_loader = DataLoader(dataset=val_dataset, batch_size=1, shuffle=False)"
   ]
  },
  {
   "cell_type": "code",
   "execution_count": 19,
   "metadata": {
    "collapsed": false,
    "jupyter": {
     "outputs_hidden": false
    },
    "pycharm": {
     "name": "#%%\n"
    }
   },
   "outputs": [
    {
     "name": "stderr",
     "output_type": "stream",
     "text": [
      "  0%|          | 0/137 [00:00<?, ?it/s]"
     ]
    },
    {
     "name": "stdout",
     "output_type": "stream",
     "text": [
      "Обучение эпохи 0/500\n"
     ]
    },
    {
     "name": "stderr",
     "output_type": "stream",
     "text": [
      "100%|██████████| 137/137 [02:10<00:00,  1.05it/s]\n"
     ]
    },
    {
     "name": "stdout",
     "output_type": "stream",
     "text": [
      "Saving checkpoint\n",
      "Saving checkpoint\n"
     ]
    },
    {
     "name": "stderr",
     "output_type": "stream",
     "text": [
      "  0%|          | 0/137 [00:00<?, ?it/s]"
     ]
    },
    {
     "name": "stdout",
     "output_type": "stream",
     "text": [
      "Обучение эпохи 1/500\n"
     ]
    },
    {
     "name": "stderr",
     "output_type": "stream",
     "text": [
      " 91%|█████████ | 124/137 [01:58<00:12,  1.05it/s]\n"
     ]
    },
    {
     "ename": "KeyboardInterrupt",
     "evalue": "",
     "output_type": "error",
     "traceback": [
      "\u001b[1;31m---------------------------------------------------------------------------\u001b[0m",
      "\u001b[1;31mKeyboardInterrupt\u001b[0m                         Traceback (most recent call last)",
      "Input \u001b[1;32mIn [19]\u001b[0m, in \u001b[0;36m<cell line: 15>\u001b[1;34m()\u001b[0m\n\u001b[0;32m     37\u001b[0m     generator\u001b[38;5;241m.\u001b[39mzero_grad()\n\u001b[0;32m     38\u001b[0m     g_scaler\u001b[38;5;241m.\u001b[39mscale(G_loss)\u001b[38;5;241m.\u001b[39mbackward()\n\u001b[1;32m---> 39\u001b[0m     \u001b[43mg_scaler\u001b[49m\u001b[38;5;241;43m.\u001b[39;49m\u001b[43mstep\u001b[49m\u001b[43m(\u001b[49m\u001b[43moptimizer_gen\u001b[49m\u001b[43m)\u001b[49m\n\u001b[0;32m     40\u001b[0m     g_scaler\u001b[38;5;241m.\u001b[39mupdate()\n\u001b[0;32m     42\u001b[0m \u001b[38;5;28;01mif\u001b[39;00m epoch\u001b[38;5;241m%\u001b[39m\u001b[38;5;241m5\u001b[39m\u001b[38;5;241m==\u001b[39m\u001b[38;5;241m0\u001b[39m:\n",
      "File \u001b[1;32mD:\\mlp\\MachineLearning\\venv\\lib\\site-packages\\torch\\cuda\\amp\\grad_scaler.py:338\u001b[0m, in \u001b[0;36mGradScaler.step\u001b[1;34m(self, optimizer, *args, **kwargs)\u001b[0m\n\u001b[0;32m    334\u001b[0m     \u001b[38;5;28mself\u001b[39m\u001b[38;5;241m.\u001b[39munscale_(optimizer)\n\u001b[0;32m    336\u001b[0m \u001b[38;5;28;01massert\u001b[39;00m \u001b[38;5;28mlen\u001b[39m(optimizer_state[\u001b[38;5;124m\"\u001b[39m\u001b[38;5;124mfound_inf_per_device\u001b[39m\u001b[38;5;124m\"\u001b[39m]) \u001b[38;5;241m>\u001b[39m \u001b[38;5;241m0\u001b[39m, \u001b[38;5;124m\"\u001b[39m\u001b[38;5;124mNo inf checks were recorded for this optimizer.\u001b[39m\u001b[38;5;124m\"\u001b[39m\n\u001b[1;32m--> 338\u001b[0m retval \u001b[38;5;241m=\u001b[39m \u001b[38;5;28mself\u001b[39m\u001b[38;5;241m.\u001b[39m_maybe_opt_step(optimizer, optimizer_state, \u001b[38;5;241m*\u001b[39margs, \u001b[38;5;241m*\u001b[39m\u001b[38;5;241m*\u001b[39mkwargs)\n\u001b[0;32m    340\u001b[0m optimizer_state[\u001b[38;5;124m\"\u001b[39m\u001b[38;5;124mstage\u001b[39m\u001b[38;5;124m\"\u001b[39m] \u001b[38;5;241m=\u001b[39m OptState\u001b[38;5;241m.\u001b[39mSTEPPED\n\u001b[0;32m    342\u001b[0m \u001b[38;5;28;01mreturn\u001b[39;00m retval\n",
      "File \u001b[1;32mD:\\mlp\\MachineLearning\\venv\\lib\\site-packages\\torch\\cuda\\amp\\grad_scaler.py:284\u001b[0m, in \u001b[0;36mGradScaler._maybe_opt_step\u001b[1;34m(self, optimizer, optimizer_state, *args, **kwargs)\u001b[0m\n\u001b[0;32m    282\u001b[0m \u001b[38;5;28;01mdef\u001b[39;00m \u001b[38;5;21m_maybe_opt_step\u001b[39m(\u001b[38;5;28mself\u001b[39m, optimizer, optimizer_state, \u001b[38;5;241m*\u001b[39margs, \u001b[38;5;241m*\u001b[39m\u001b[38;5;241m*\u001b[39mkwargs):\n\u001b[0;32m    283\u001b[0m     retval \u001b[38;5;241m=\u001b[39m \u001b[38;5;28;01mNone\u001b[39;00m\n\u001b[1;32m--> 284\u001b[0m     \u001b[38;5;28;01mif\u001b[39;00m \u001b[38;5;129;01mnot\u001b[39;00m \u001b[38;5;28;43msum\u001b[39;49m\u001b[43m(\u001b[49m\u001b[43mv\u001b[49m\u001b[38;5;241;43m.\u001b[39;49m\u001b[43mitem\u001b[49m\u001b[43m(\u001b[49m\u001b[43m)\u001b[49m\u001b[43m \u001b[49m\u001b[38;5;28;43;01mfor\u001b[39;49;00m\u001b[43m \u001b[49m\u001b[43mv\u001b[49m\u001b[43m \u001b[49m\u001b[38;5;129;43;01min\u001b[39;49;00m\u001b[43m \u001b[49m\u001b[43moptimizer_state\u001b[49m\u001b[43m[\u001b[49m\u001b[38;5;124;43m\"\u001b[39;49m\u001b[38;5;124;43mfound_inf_per_device\u001b[39;49m\u001b[38;5;124;43m\"\u001b[39;49m\u001b[43m]\u001b[49m\u001b[38;5;241;43m.\u001b[39;49m\u001b[43mvalues\u001b[49m\u001b[43m(\u001b[49m\u001b[43m)\u001b[49m\u001b[43m)\u001b[49m:\n\u001b[0;32m    285\u001b[0m         retval \u001b[38;5;241m=\u001b[39m optimizer\u001b[38;5;241m.\u001b[39mstep(\u001b[38;5;241m*\u001b[39margs, \u001b[38;5;241m*\u001b[39m\u001b[38;5;241m*\u001b[39mkwargs)\n\u001b[0;32m    286\u001b[0m     \u001b[38;5;28;01mreturn\u001b[39;00m retval\n",
      "File \u001b[1;32mD:\\mlp\\MachineLearning\\venv\\lib\\site-packages\\torch\\cuda\\amp\\grad_scaler.py:284\u001b[0m, in \u001b[0;36m<genexpr>\u001b[1;34m(.0)\u001b[0m\n\u001b[0;32m    282\u001b[0m \u001b[38;5;28;01mdef\u001b[39;00m \u001b[38;5;21m_maybe_opt_step\u001b[39m(\u001b[38;5;28mself\u001b[39m, optimizer, optimizer_state, \u001b[38;5;241m*\u001b[39margs, \u001b[38;5;241m*\u001b[39m\u001b[38;5;241m*\u001b[39mkwargs):\n\u001b[0;32m    283\u001b[0m     retval \u001b[38;5;241m=\u001b[39m \u001b[38;5;28;01mNone\u001b[39;00m\n\u001b[1;32m--> 284\u001b[0m     \u001b[38;5;28;01mif\u001b[39;00m \u001b[38;5;129;01mnot\u001b[39;00m \u001b[38;5;28msum\u001b[39m(\u001b[43mv\u001b[49m\u001b[38;5;241;43m.\u001b[39;49m\u001b[43mitem\u001b[49m\u001b[43m(\u001b[49m\u001b[43m)\u001b[49m \u001b[38;5;28;01mfor\u001b[39;00m v \u001b[38;5;129;01min\u001b[39;00m optimizer_state[\u001b[38;5;124m\"\u001b[39m\u001b[38;5;124mfound_inf_per_device\u001b[39m\u001b[38;5;124m\"\u001b[39m]\u001b[38;5;241m.\u001b[39mvalues()):\n\u001b[0;32m    285\u001b[0m         retval \u001b[38;5;241m=\u001b[39m optimizer\u001b[38;5;241m.\u001b[39mstep(\u001b[38;5;241m*\u001b[39margs, \u001b[38;5;241m*\u001b[39m\u001b[38;5;241m*\u001b[39mkwargs)\n\u001b[0;32m    286\u001b[0m     \u001b[38;5;28;01mreturn\u001b[39;00m retval\n",
      "\u001b[1;31mKeyboardInterrupt\u001b[0m: "
     ]
    }
   ],
   "source": [
    "device = 'cuda' if torch.cuda.is_available() else 'cpu'\n",
    "discriminator = Discriminator().to(device)\n",
    "generator = Generator().to(device)\n",
    "optimizer_disc = optim.Adam(discriminator.parameters(), lr=lr, betas=(0.5, 0.999))\n",
    "optimizer_gen = optim.Adam(generator.parameters(), lr=lr, betas=(0.5, 0.999))\n",
    "BCE = nn.BCEWithLogitsLoss()\n",
    "l1_loss = nn.L1Loss()\n",
    "\n",
    "\n",
    "\n",
    "if load_model:\n",
    "    load_checkpoint(generator, optimizer_gen, lr=lr, file='generator_model.pth')\n",
    "    load_checkpoint(discriminator, optimizer_disc, lr=lr, file='discriminator_model.pth')\n",
    "\n",
    "for epoch in range(num_epochs):\n",
    "    loop = tqdm(train_loader, leave=True)\n",
    "    print(f'Обучение эпохи {epoch}/{num_epochs}')\n",
    "    for idx, (x, y) in enumerate(loop):\n",
    "        x = x.to(device)\n",
    "        y = y.to(device)\n",
    "\n",
    "        with torch.cuda.amp.autocast():\n",
    "            y_fake = generator.forward(x)\n",
    "            D_fake = discriminator.forward(x, y_fake.detach())\n",
    "            D_real = discriminator.forward(x, y)\n",
    "            # D_loss = BCE(D_real, torch.ones_like(D_real).to(device)) + BCE(D_fake, torch.zeros_like(D_fake).to(device))\n",
    "            D_loss = BCE(D_real, torch.ones_like(D_real).to(device)) + BCE(D_fake, torch.zeros_like(D_fake).to(device))\n",
    "        discriminator.zero_grad()\n",
    "        d_scaler.scale(D_loss).backward()\n",
    "        d_scaler.step(optimizer_disc)\n",
    "        d_scaler.update()\n",
    "\n",
    "        with torch.cuda.amp.autocast():\n",
    "            D_fake = discriminator.forward(x, y_fake)\n",
    "            G_loss = BCE(D_fake, torch.ones_like(D_fake)) + l1_lambda * l1_loss(y_fake, y)\n",
    "\n",
    "        generator.zero_grad()\n",
    "        g_scaler.scale(G_loss).backward()\n",
    "        g_scaler.step(optimizer_gen)\n",
    "        g_scaler.update()\n",
    "\n",
    "    if epoch%5==0:\n",
    "        save_checkpoint(generator, optimizer_gen, 'generator_model.pth')\n",
    "        save_checkpoint(discriminator, optimizer_disc, 'discriminator_model.pth')\n",
    "\n",
    "        save_examples(generator, val_loader, epoch, 'examples')"
   ]
  },
  {
   "cell_type": "code",
   "execution_count": null,
   "metadata": {
    "collapsed": false,
    "jupyter": {
     "outputs_hidden": false
    },
    "pycharm": {
     "name": "#%%\n"
    }
   },
   "outputs": [],
   "source": []
  },
  {
   "cell_type": "code",
   "execution_count": 23,
   "metadata": {
    "collapsed": false,
    "jupyter": {
     "outputs_hidden": false
    },
    "pycharm": {
     "name": "#%%\n"
    }
   },
   "outputs": [],
   "source": [
    "generator.train()\n",
    "save_examples(generator, val_loader, 111, 'examples')"
   ]
  },
  {
   "cell_type": "code",
   "execution_count": null,
   "metadata": {
    "collapsed": false,
    "jupyter": {
     "outputs_hidden": false
    },
    "pycharm": {
     "name": "#%%\n"
    }
   },
   "outputs": [],
   "source": []
  }
 ],
 "metadata": {
  "kernelspec": {
   "display_name": "Python 3 (ipykernel)",
   "language": "python",
   "name": "python3"
  },
  "language_info": {
   "codemirror_mode": {
    "name": "ipython",
    "version": 3
   },
   "file_extension": ".py",
   "mimetype": "text/x-python",
   "name": "python",
   "nbconvert_exporter": "python",
   "pygments_lexer": "ipython3",
   "version": "3.10.4"
  }
 },
 "nbformat": 4,
 "nbformat_minor": 4
}
