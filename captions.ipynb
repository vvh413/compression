{
 "cells": [
  {
   "cell_type": "code",
   "execution_count": 2,
   "metadata": {},
   "outputs": [],
   "source": [
    "from IPython.display import clear_output\n",
    "import matplotlib.pyplot as plt\n",
    "from PIL import Image\n",
    "import numpy as np\n",
    "from datasets.captioning.dataset import *\n",
    "\n",
    "from utils import load_checkpoint\n",
    "from models.captioning import CaptionNet\n",
    "\n",
    "import config\n",
    "\n",
    "import torch\n",
    "import torch.nn as nn\n",
    "import torch.nn.functional as F\n",
    "\n",
    "import random\n",
    "import os\n",
    "\n",
    "from models.compress import HyperpriorWrapper\n",
    "\n",
    "%matplotlib inline"
   ]
  },
  {
   "cell_type": "code",
   "execution_count": 3,
   "metadata": {},
   "outputs": [
    {
     "data": {
      "text/plain": [
       "'cuda'"
      ]
     },
     "execution_count": 3,
     "metadata": {},
     "output_type": "execute_result"
    }
   ],
   "source": [
    "config.DEVICE"
   ]
  },
  {
   "cell_type": "code",
   "execution_count": 34,
   "metadata": {},
   "outputs": [],
   "source": [
    "network = CaptionNet(n_tokens, pad_ix=pad_ix, cnn_feature_size=512 * 49,\n",
    "                     cnn_in_channels=192, cnn_out_channels=512, pool=2).to(config.DEVICE)\n",
    "optimizer = torch.optim.Adam(network.parameters(), lr=1e-4, weight_decay=1e-4)"
   ]
  },
  {
   "cell_type": "code",
   "execution_count": 37,
   "metadata": {},
   "outputs": [
    {
     "name": "stdout",
     "output_type": "stream",
     "text": [
      "=> Loading checkpoint\n"
     ]
    }
   ],
   "source": [
    "load_checkpoint(\"checkpoints/captions_compressed_enc_512_2.pth.tar\", network, optimizer, 1e-4)"
   ]
  },
  {
   "cell_type": "code",
   "execution_count": 38,
   "metadata": {},
   "outputs": [],
   "source": [
    "# from models.beheaded_inception3 import beheaded_inception_v3\n",
    "# inception = beheaded_inception_v3().train(False)"
   ]
  },
  {
   "cell_type": "code",
   "execution_count": 39,
   "metadata": {},
   "outputs": [],
   "source": [
    "compressor = HyperpriorWrapper(1, pretrained=True).eval().to(config.DEVICE)"
   ]
  },
  {
   "cell_type": "code",
   "execution_count": 40,
   "metadata": {},
   "outputs": [],
   "source": [
    "def generate_caption(image, caption_prefix=(\"#START#\",), t=1, sample=True, max_len=100):\n",
    "\n",
    "    assert (\n",
    "        isinstance(image, np.ndarray)\n",
    "        and np.max(image) <= 1\n",
    "        and np.min(image) >= 0\n",
    "        and image.shape[-1] == 3\n",
    "    )\n",
    "\n",
    "    with torch.no_grad():\n",
    "        image = torch.tensor(image.transpose([2, 0, 1]), dtype=torch.float32).to(\n",
    "            config.DEVICE\n",
    "        )\n",
    "\n",
    "        # vectors_8x8, vectors_neck, logits = inception(image[None])\n",
    "        compressed = compressor.compress(image[None])\n",
    "        vectors_neck = compressor.entropy_decode(compressed[\"strings\"], compressed[\"shape\"])\n",
    "\n",
    "        caption_prefix = list(caption_prefix)\n",
    "\n",
    "        for _ in range(max_len):\n",
    "\n",
    "            prefix_ix = as_matrix([caption_prefix])\n",
    "            prefix_ix = torch.tensor(prefix_ix, dtype=torch.int64)\n",
    "            next_word_logits = network.forward(\n",
    "                vectors_neck.to(config.DEVICE), prefix_ix.to(config.DEVICE)\n",
    "            )[0, -1]\n",
    "            next_word_probs = (\n",
    "                F.softmax(next_word_logits, dim=-1).data.detach().cpu().numpy()\n",
    "            )\n",
    "            next_word_probs = next_word_probs.clip(0)\n",
    "            assert len(next_word_probs.shape) == 1, \"probs must be one-dimensional\"\n",
    "            next_word_probs = next_word_probs**t / np.sum(\n",
    "                next_word_probs**t\n",
    "            )  # apply temperature\n",
    "\n",
    "            if sample:\n",
    "                next_word = np.random.choice(vocab, p=next_word_probs)\n",
    "            else:\n",
    "                next_word = vocab[np.argmax(next_word_probs)]\n",
    "\n",
    "            caption_prefix.append(next_word)\n",
    "\n",
    "            if next_word == \"#END#\":\n",
    "                break\n",
    "\n",
    "    return caption_prefix"
   ]
  },
  {
   "cell_type": "code",
   "execution_count": null,
   "metadata": {},
   "outputs": [
    {
     "name": "stdout",
     "output_type": "stream",
     "text": [
      "a man with a tennis racket in a baseball game .\n",
      "a man is standing on a bench in front of a building .\n",
      "a man in a suit and a man holding a frisbee .\n",
      "a man is sitting on a bench in a room .\n",
      "a man is standing in the air with a skateboard .\n",
      "a man riding a skateboard in the water .\n",
      "a white cat sitting on a table with a laptop .\n",
      "a bathroom with a toilet and a sink .\n"
     ]
    }
   ],
   "source": [
    "# sample image\n",
    "# path = 'datasets/image_captioning/flickr30k_images/flickr30k_images/'\n",
    "path = \"datasets/captioning/coco2017/\"\n",
    "image = random.choice(os.listdir(path))\n",
    "img = plt.imread(os.path.join(path, image))\n",
    "img = Image.fromarray(img).resize((256, 256))\n",
    "img = np.array(img).astype(\"float32\") / 255.0\n",
    "plt.imshow(img)\n",
    "for i in range(10):\n",
    "    print(\" \".join(generate_caption(img, t=5.0)[1:-1]))"
   ]
  },
  {
   "cell_type": "code",
   "execution_count": null,
   "metadata": {},
   "outputs": [],
   "source": []
  },
  {
   "cell_type": "code",
   "execution_count": null,
   "metadata": {},
   "outputs": [],
   "source": []
  }
 ],
 "metadata": {
  "kernelspec": {
   "display_name": "Python 3",
   "language": "python",
   "name": "python3"
  },
  "language_info": {
   "codemirror_mode": {
    "name": "ipython",
    "version": 3
   },
   "file_extension": ".py",
   "mimetype": "text/x-python",
   "name": "python",
   "nbconvert_exporter": "python",
   "pygments_lexer": "ipython3",
   "version": "3.6.9"
  }
 },
 "nbformat": 4,
 "nbformat_minor": 4
}
